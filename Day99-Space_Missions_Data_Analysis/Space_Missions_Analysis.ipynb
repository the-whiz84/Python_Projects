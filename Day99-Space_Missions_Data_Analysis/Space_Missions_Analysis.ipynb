{
  "cells": [
    {
      "cell_type": "markdown",
      "metadata": {
        "id": "ka_FkvXBiABo"
      },
      "source": [
        "# Introduction\n"
      ]
    },
    {
      "cell_type": "markdown",
      "metadata": {
        "id": "AWaMmfxXa-p0",
        "papermill": {
          "duration": 0.035434,
          "end_time": "2020-10-20T21:34:01.886225",
          "exception": false,
          "start_time": "2020-10-20T21:34:01.850791",
          "status": "completed"
        },
        "tags": []
      },
      "source": [
        "<center><img src=\"https://i.imgur.com/9hLRsjZ.jpg\" height=400></center>\n",
        "\n",
        "This dataset was scraped from [nextspaceflight.com](https://nextspaceflight.com/launches/past/?page=1) and includes all the space missions since the beginning of Space Race between the USA and the Soviet Union in 1957!\n"
      ]
    },
    {
      "cell_type": "markdown",
      "metadata": {
        "id": "ufzKRKS3bV0r"
      },
      "source": [
        "### Install Package with Country Codes\n"
      ]
    },
    {
      "cell_type": "code",
      "execution_count": null,
      "metadata": {
        "colab": {
          "base_uri": "https://localhost:8080/"
        },
        "id": "0HxV9o6dbRUE",
        "outputId": "35464d43-d601-4b8f-81fd-6dbd400167f5"
      },
      "outputs": [],
      "source": [
        "%pip install iso3166"
      ]
    },
    {
      "cell_type": "markdown",
      "metadata": {
        "id": "sghkhFoLbof8"
      },
      "source": [
        "### Upgrade Plotly\n",
        "\n",
        "Run the cell below if you are working with Google Colab.\n"
      ]
    },
    {
      "cell_type": "code",
      "execution_count": null,
      "metadata": {
        "colab": {
          "base_uri": "https://localhost:8080/"
        },
        "id": "gQ61wy9gbmxd",
        "outputId": "99185d87-acb8-4237-c0f7-bfb18bfd4d39"
      },
      "outputs": [],
      "source": [
        "%pip install --upgrade plotly"
      ]
    },
    {
      "cell_type": "markdown",
      "metadata": {
        "id": "ErFDBihUi1jN"
      },
      "source": [
        "### Import Statements\n"
      ]
    },
    {
      "cell_type": "code",
      "execution_count": 3,
      "metadata": {
        "_cell_guid": "b1076dfc-b9ad-4769-8c92-a6c4dae69d19",
        "_kg_hide-input": true,
        "_kg_hide-output": true,
        "_uuid": "8f2839f25d086af736a60e9eeb907d3b93b6e0e5",
        "colab": {
          "base_uri": "https://localhost:8080/"
        },
        "execution": {
          "iopub.execute_input": "2020-10-20T21:34:02.101551Z",
          "iopub.status.busy": "2020-10-20T21:34:02.101085Z",
          "iopub.status.idle": "2020-10-20T21:34:03.726868Z",
          "shell.execute_reply": "2020-10-20T21:34:03.725783Z"
        },
        "id": "xdolY0-Sa-p1",
        "outputId": "7142dedb-82e9-457d-db44-cea4e121bdfe",
        "papermill": {
          "duration": 1.665326,
          "end_time": "2020-10-20T21:34:03.726995",
          "exception": false,
          "start_time": "2020-10-20T21:34:02.061669",
          "status": "completed"
        },
        "tags": []
      },
      "outputs": [],
      "source": [
        "import numpy as np\n",
        "import pandas as pd\n",
        "import plotly.express as px\n",
        "import matplotlib.pyplot as plt\n",
        "import seaborn as sns\n",
        "\n",
        "# These might be helpful:\n",
        "from iso3166 import countries\n",
        "from datetime import datetime, timedelta"
      ]
    },
    {
      "cell_type": "markdown",
      "metadata": {
        "id": "lovGPRgKxIgo"
      },
      "source": [
        "### Notebook Presentation\n"
      ]
    },
    {
      "cell_type": "code",
      "execution_count": 4,
      "metadata": {
        "id": "DHEULCOjxIIm"
      },
      "outputs": [],
      "source": [
        "pd.options.display.float_format = \"{:,.2f}\".format"
      ]
    },
    {
      "cell_type": "markdown",
      "metadata": {
        "id": "yaT3QbjEa-p4",
        "papermill": {
          "duration": 0.034606,
          "end_time": "2020-10-20T21:34:03.798396",
          "exception": false,
          "start_time": "2020-10-20T21:34:03.763790",
          "status": "completed"
        },
        "tags": []
      },
      "source": [
        "### Load the Data\n"
      ]
    },
    {
      "cell_type": "code",
      "execution_count": 5,
      "metadata": {
        "_cell_guid": "79c7e3d0-c299-4dcb-8224-4455121ee9b0",
        "_kg_hide-input": true,
        "_uuid": "d629ff2d2480ee46fbb7e2d37f6b5fab8052498a",
        "execution": {
          "iopub.execute_input": "2020-10-20T21:34:03.874195Z",
          "iopub.status.busy": "2020-10-20T21:34:03.873775Z",
          "iopub.status.idle": "2020-10-20T21:34:03.921919Z",
          "shell.execute_reply": "2020-10-20T21:34:03.921418Z"
        },
        "id": "0lDOu8aka-p4",
        "papermill": {
          "duration": 0.08876,
          "end_time": "2020-10-20T21:34:03.922028",
          "exception": false,
          "start_time": "2020-10-20T21:34:03.833268",
          "status": "completed"
        },
        "tags": []
      },
      "outputs": [],
      "source": [
        "df_data = pd.read_csv(\"mission_launches_Feb2024.csv\")"
      ]
    },
    {
      "cell_type": "markdown",
      "metadata": {
        "id": "jAnMiVcVjuKB"
      },
      "source": [
        "# Preliminary Data Exploration\n",
        "\n",
        "- What is the shape of `df_data`?\n",
        "- How many rows and columns does it have?\n",
        "- What are the column names?\n",
        "- Are there any NaN values or duplicates?\n"
      ]
    },
    {
      "cell_type": "code",
      "execution_count": null,
      "metadata": {
        "id": "0tIuYcYNlPFQ"
      },
      "outputs": [],
      "source": [
        "print(df_data.shape)\n",
        "df_data.tail()"
      ]
    },
    {
      "cell_type": "code",
      "execution_count": null,
      "metadata": {
        "id": "0dw2hd9UlPmP"
      },
      "outputs": [],
      "source": [
        "df_data.info()"
      ]
    },
    {
      "cell_type": "markdown",
      "metadata": {
        "id": "KUN30y6ja-p9",
        "papermill": {
          "duration": 0.05406,
          "end_time": "2020-10-20T21:34:04.149973",
          "exception": false,
          "start_time": "2020-10-20T21:34:04.095913",
          "status": "completed"
        },
        "tags": []
      },
      "source": [
        "## Data Cleaning - Check for Missing Values and Duplicates\n",
        "\n",
        "Consider removing columns containing junk data.\n"
      ]
    },
    {
      "cell_type": "code",
      "execution_count": 8,
      "metadata": {
        "id": "wWQvnJb0k2Ig"
      },
      "outputs": [],
      "source": [
        "df_data.drop(columns=[\"Unnamed: 0\"], inplace=True)"
      ]
    },
    {
      "cell_type": "code",
      "execution_count": null,
      "metadata": {
        "id": "SfxVooCYk2As"
      },
      "outputs": [],
      "source": [
        "df_data.head()"
      ]
    },
    {
      "cell_type": "markdown",
      "metadata": {
        "id": "QHon_T5sa-p_",
        "papermill": {
          "duration": 0.036712,
          "end_time": "2020-10-20T21:34:05.227032",
          "exception": false,
          "start_time": "2020-10-20T21:34:05.190320",
          "status": "completed"
        },
        "tags": []
      },
      "source": [
        "## Descriptive Statistics\n"
      ]
    },
    {
      "cell_type": "code",
      "execution_count": null,
      "metadata": {
        "id": "Fh1-libjkJIK"
      },
      "outputs": [],
      "source": [
        "df_data.describe()"
      ]
    },
    {
      "cell_type": "code",
      "execution_count": null,
      "metadata": {
        "id": "dGZa5HdbkJBT"
      },
      "outputs": [],
      "source": [
        "df_data.Location.describe()"
      ]
    },
    {
      "cell_type": "markdown",
      "metadata": {
        "id": "cgCjcpeUkKPW"
      },
      "source": [
        "# Number of Launches per Company\n",
        "\n",
        "Create a chart that shows the number of space mission launches by organisation.\n"
      ]
    },
    {
      "cell_type": "code",
      "execution_count": null,
      "metadata": {
        "id": "rxvcIrtskxYB"
      },
      "outputs": [],
      "source": [
        "plt.figure(figsize=(12, 8))\n",
        "sns.countplot(\n",
        "    y=\"Organisation\", data=df_data, order=df_data[\"Organisation\"].value_counts().index\n",
        ")\n",
        "plt.title(\"Number of Space Mission Launches by Organization\")\n",
        "plt.xlabel(\"Number of Launches\")\n",
        "plt.ylabel(\"Organization\")\n",
        "plt.show()"
      ]
    },
    {
      "cell_type": "code",
      "execution_count": null,
      "metadata": {
        "id": "qgneHUbWkw5v"
      },
      "outputs": [],
      "source": []
    },
    {
      "cell_type": "markdown",
      "metadata": {
        "id": "7Gwteht2kR_h"
      },
      "source": [
        "# Number of Active versus Retired Rockets\n",
        "\n",
        "How many rockets are active compared to those that are decomissioned?\n"
      ]
    },
    {
      "cell_type": "code",
      "execution_count": 13,
      "metadata": {
        "id": "SxmOWS9cmTq6"
      },
      "outputs": [],
      "source": [
        "avr = df_data.sort_values(by=\"Status\", ascending=False).value_counts(\"Status\")"
      ]
    },
    {
      "cell_type": "code",
      "execution_count": null,
      "metadata": {
        "id": "ydj0-OZ6mToH"
      },
      "outputs": [],
      "source": [
        "avr"
      ]
    },
    {
      "cell_type": "markdown",
      "metadata": {
        "id": "y9WtP5xWkYkp"
      },
      "source": [
        "# Distribution of Mission Status\n",
        "\n",
        "How many missions were successful?\n",
        "How many missions failed?\n"
      ]
    },
    {
      "cell_type": "code",
      "execution_count": null,
      "metadata": {
        "id": "83kY1alqmUhb"
      },
      "outputs": [],
      "source": [
        "successful_missions = df_data[\"Mission_status\"].value_counts().get(\"Success\", 0)\n",
        "print(f\"Number of successful missions: {successful_missions}\")"
      ]
    },
    {
      "cell_type": "code",
      "execution_count": null,
      "metadata": {
        "id": "bdmXcaopmUeZ"
      },
      "outputs": [],
      "source": [
        "failed_missions = df_data[\"Mission_status\"].value_counts().get(\"Failure\", 0)\n",
        "print(f\"Number of failed missions: {failed_missions}\")"
      ]
    },
    {
      "cell_type": "markdown",
      "metadata": {
        "id": "jgTCihuoa-qH",
        "papermill": {
          "duration": 0.03854,
          "end_time": "2020-10-20T21:34:05.968626",
          "exception": false,
          "start_time": "2020-10-20T21:34:05.930086",
          "status": "completed"
        },
        "tags": []
      },
      "source": [
        "# How Expensive are the Launches?\n",
        "\n",
        "Create a histogram and visualise the distribution. The price column is given in USD millions (careful of missing values).\n"
      ]
    },
    {
      "cell_type": "code",
      "execution_count": null,
      "metadata": {
        "id": "PLOMhzZFnSCO"
      },
      "outputs": [],
      "source": [
        "plt.figure(figsize=(12, 8))\n",
        "sns.histplot(df_data[\"Price\"].dropna(), bins=30, kde=True)\n",
        "plt.title(\"Distribution of Launch Prices (in USD millions)\")\n",
        "plt.xlabel(\"Price (in USD millions)\")\n",
        "plt.ylabel(ylabel=\"Frequency\")\n",
        "plt.show()"
      ]
    },
    {
      "cell_type": "code",
      "execution_count": null,
      "metadata": {
        "id": "ru0IcY4nnSFU"
      },
      "outputs": [],
      "source": []
    },
    {
      "cell_type": "markdown",
      "metadata": {
        "id": "QiNtigQDne3E"
      },
      "source": [
        "# Use a Choropleth Map to Show the Number of Launches by Country\n",
        "\n",
        "- Create a choropleth map using [the plotly documentation](https://plotly.com/python/choropleth-maps/)\n",
        "- Experiment with [plotly's available colours](https://plotly.com/python/builtin-colorscales/). I quite like the sequential colour `matter` on this map.\n",
        "- You'll need to extract a `country` feature as well as change the country names that no longer exist.\n",
        "\n",
        "Wrangle the Country Names\n",
        "\n",
        "You'll need to use a 3 letter country code for each country. You might have to change some country names.\n",
        "\n",
        "- Russia is the Russian Federation\n",
        "- New Mexico should be USA\n",
        "- Yellow Sea refers to China\n",
        "- Shahrud Missile Test Site should be Iran\n",
        "- Pacific Missile Range Facility should be USA\n",
        "- Barents Sea should be Russian Federation\n",
        "- Gran Canaria should be USA\n",
        "\n",
        "You can use the iso3166 package to convert the country names to Alpha3 format.\n"
      ]
    },
    {
      "cell_type": "code",
      "execution_count": null,
      "metadata": {
        "id": "Y46-4GHrozhF"
      },
      "outputs": [],
      "source": [
        "# Seperate the country from the location and create a new column.\n",
        "df_data[\"launch_country\"] = df_data[\"Location\"].str.split(\", \").str[-1]\n",
        "\n",
        "# Replace bad data i.e outdated country names.\n",
        "df_data[\"launch_country\"] = df_data[\"launch_country\"].replace(\n",
        "    {\n",
        "        \"Gran Canaria\": \"USA\",\n",
        "        \"Yellow Sea\": \"China\",\n",
        "        \"China Coastal Waters\": \"China\",\n",
        "        \"Pacific Missile Range Facility\": \"USA\",\n",
        "        \"Barents Sea\": \"Russian Federation\",\n",
        "        \"Russia\": \"Russian Federation\",\n",
        "        \"Pacific Ocean\": \"USA\",\n",
        "        \"Marshall Islands\": \"USA\",\n",
        "        \"Iran\": \"Iran, Islamic Republic of\",\n",
        "        \"North Korea\": \"Korea, Democratic People's Republic of\",\n",
        "        \"South Korea\": \"Korea, Republic of\",\n",
        "        \"United Kingdom\": \"United Kingdom of Great Britain and Northern Ireland\",\n",
        "    }\n",
        ")\n",
        "\n",
        "# Use iso3166 to get alpha3 codes\n",
        "df_data[\"launch_country_code\"] = df_data[\"launch_country\"].apply(\n",
        "    lambda x: (countries.get(x).alpha3)\n",
        ")\n",
        "\n",
        "# Use groupby to get the total launches by country and country code.\n",
        "df_launches = df_data.groupby(\n",
        "    [\"launch_country\", \"launch_country_code\"], as_index=False\n",
        ").agg({\"Mission_status\": pd.Series.count})\n",
        "df_launches.rename(columns={\"Mission_status\": \"Total_launches\"}, inplace=True)\n",
        "\n",
        "# Check the table.\n",
        "df_launches.sort_values(by=\"Total_launches\", ascending=False)"
      ]
    },
    {
      "cell_type": "code",
      "execution_count": null,
      "metadata": {
        "id": "ESGRWiX6ozZG"
      },
      "outputs": [],
      "source": [
        "# Deploy the map\n",
        "px.choropleth(\n",
        "    data_frame=df_launches,\n",
        "    locations=\"launch_country_code\",\n",
        "    color=\"Total_launches\",\n",
        "    color_continuous_scale=\"matter\",\n",
        ")"
      ]
    },
    {
      "cell_type": "markdown",
      "metadata": {
        "id": "F3pwYSUlo_AK"
      },
      "source": [
        "# Use a Choropleth Map to Show the Number of Failures by Country\n"
      ]
    },
    {
      "cell_type": "code",
      "execution_count": null,
      "metadata": {
        "id": "8BH4ICtro9I0"
      },
      "outputs": [],
      "source": [
        "# Filter the dataframe to include only failed missions\n",
        "df_failures = df_data[df_data[\"Mission_status\"] == \"Failure\"]\n",
        "\n",
        "# Group by country and count the number of failures\n",
        "df_failures = df_failures.groupby(\n",
        "    [\"launch_country\", \"launch_country_code\"], as_index=False\n",
        ").agg({\"Mission_status\": pd.Series.count})\n",
        "df_failures.rename(columns={\"Mission_status\": \"Number of Failures\"}, inplace=True)\n",
        "\n",
        "df_failures.sort_values(by=\"Number of Failures\", ascending=False)"
      ]
    },
    {
      "cell_type": "code",
      "execution_count": null,
      "metadata": {
        "id": "sfw-q7Obo9GM"
      },
      "outputs": [],
      "source": [
        "# Deploy the map for mission failures\n",
        "fig = px.choropleth(\n",
        "    data_frame=df_failures,\n",
        "    locations=\"launch_country_code\",\n",
        "    color=\"Number of Failures\",\n",
        "    color_continuous_scale=\"matter\",\n",
        "    labels={\"Number of Failures\": \"Number of Failures\"},\n",
        "    title=\"Number of Mission Failures by Country\",\n",
        ")\n",
        "\n",
        "fig.show()"
      ]
    },
    {
      "cell_type": "markdown",
      "metadata": {
        "id": "9LqcqSrKa-qN",
        "papermill": {
          "duration": 0.039343,
          "end_time": "2020-10-20T21:34:06.591694",
          "exception": false,
          "start_time": "2020-10-20T21:34:06.552351",
          "status": "completed"
        },
        "tags": []
      },
      "source": [
        "# Create a Plotly Sunburst Chart of the countries, organisations, and mission status.\n"
      ]
    },
    {
      "cell_type": "code",
      "execution_count": null,
      "metadata": {
        "id": "MwUfpoByo3_J"
      },
      "outputs": [],
      "source": [
        "df_data.head()"
      ]
    },
    {
      "cell_type": "code",
      "execution_count": null,
      "metadata": {
        "id": "-ZwZkx1ro4X9"
      },
      "outputs": [],
      "source": [
        "fig = px.sunburst(df_data, path=[\"launch_country\", \"Organisation\", \"Mission_status\"])\n",
        "fig.show()"
      ]
    },
    {
      "cell_type": "code",
      "execution_count": null,
      "metadata": {
        "id": "VfTGp2hLo4Ok"
      },
      "outputs": [],
      "source": []
    },
    {
      "cell_type": "markdown",
      "metadata": {
        "id": "70pG1BCZa-qY",
        "papermill": {
          "duration": 0.062712,
          "end_time": "2020-10-20T21:34:07.951200",
          "exception": false,
          "start_time": "2020-10-20T21:34:07.888488",
          "status": "completed"
        },
        "tags": []
      },
      "source": [
        "# Analyse the Total Amount of Money Spent by Organisation on Space Missions\n"
      ]
    },
    {
      "cell_type": "code",
      "execution_count": null,
      "metadata": {
        "id": "orIFf-appPDL"
      },
      "outputs": [],
      "source": [
        "# Group by Organisation and sum the Price column\n",
        "total_spent_by_org = df_data.groupby(\"Organisation\")[\"Price\"].sum().reset_index()\n",
        "\n",
        "# Sort the values by the total amount spent in descending order\n",
        "total_spent_by_org = total_spent_by_org.sort_values(by=\"Price\", ascending=False)\n",
        "\n",
        "# Display the result\n",
        "total_spent_by_org.head(10)"
      ]
    },
    {
      "cell_type": "code",
      "execution_count": null,
      "metadata": {
        "id": "86OMPfpEpO7R"
      },
      "outputs": [],
      "source": [
        "# Create a bar chart for the total amount spent by organisation\n",
        "plt.figure(figsize=(12, 8))\n",
        "sns.barplot(\n",
        "    x=\"Price\",\n",
        "    y=\"Organisation\",\n",
        "    data=total_spent_by_org.head(20),\n",
        "    hue=\"Organisation\",\n",
        "    palette=\"viridis\",\n",
        "    legend=False,\n",
        ")\n",
        "plt.title(\"Total Amount Spent by Organisation on Space Missions (in USD millions)\")\n",
        "plt.xlabel(\"Total Amount Spent (in USD millions)\")\n",
        "plt.ylabel(\"Organisation\")\n",
        "plt.show()"
      ]
    },
    {
      "cell_type": "markdown",
      "metadata": {
        "id": "DpsWkPxzpPXs"
      },
      "source": [
        "# Analyse the Amount of Money Spent by Organisation per Launch\n"
      ]
    },
    {
      "cell_type": "code",
      "execution_count": null,
      "metadata": {
        "id": "opYJ6GiRpTk5"
      },
      "outputs": [],
      "source": []
    },
    {
      "cell_type": "code",
      "execution_count": null,
      "metadata": {
        "id": "VEkHzAk2pTvj"
      },
      "outputs": [],
      "source": [
        "# Calculate the average price per launch for each organization\n",
        "avg_spent_per_launch = df_data.groupby(\"Organisation\")[\"Price\"].mean().reset_index()\n",
        "\n",
        "# Sort the values by the average amount spent per launch in descending order\n",
        "avg_spent_per_launch = avg_spent_per_launch.sort_values(by=\"Price\", ascending=False)\n",
        "\n",
        "# Display the result\n",
        "avg_spent_per_launch.head(15)"
      ]
    },
    {
      "cell_type": "code",
      "execution_count": null,
      "metadata": {
        "id": "R5rFf501pKXD"
      },
      "outputs": [],
      "source": [
        "# Create a bar chart for the average amount spent per launch by organization\n",
        "plt.figure(figsize=(12, 8))\n",
        "sns.barplot(\n",
        "    x=\"Price\",\n",
        "    y=\"Organisation\",\n",
        "    data=avg_spent_per_launch.head(20),\n",
        "    hue=\"Organisation\",\n",
        "    palette=\"viridis\",\n",
        "    legend=False,\n",
        ")\n",
        "plt.title(\"Average Amount Spent by Organisation per Launch (in USD millions)\")\n",
        "plt.xlabel(\"Average Amount Spent (in USD millions)\")\n",
        "plt.ylabel(\"Organisation\")\n",
        "plt.show()"
      ]
    },
    {
      "cell_type": "markdown",
      "metadata": {
        "id": "yRa1BbPoa-qf",
        "papermill": {
          "duration": 0.042662,
          "end_time": "2020-10-20T21:34:09.943196",
          "exception": false,
          "start_time": "2020-10-20T21:34:09.900534",
          "status": "completed"
        },
        "tags": []
      },
      "source": [
        "# Chart the Number of Launches per Year\n"
      ]
    },
    {
      "cell_type": "code",
      "execution_count": null,
      "metadata": {},
      "outputs": [],
      "source": [
        "# Convert the 'Datetime' column to datetime format\n",
        "df_data[\"Datetime\"] = pd.to_datetime(df_data[\"Datetime\"], utc=True)\n",
        "\n",
        "# Extract the year from the 'Datetime' column and create a new column 'Year'\n",
        "df_data[\"Year\"] = df_data[\"Datetime\"].dt.year\n",
        "\n",
        "# Group by 'Year' and count the number of launches\n",
        "launches_per_year = (\n",
        "    df_data.groupby(\"Year\").size().reset_index(name=\"Number of Launches\")\n",
        ")\n",
        "launches_per_year.sample(10)"
      ]
    },
    {
      "cell_type": "code",
      "execution_count": null,
      "metadata": {
        "id": "b2pggcZBpb4x"
      },
      "outputs": [],
      "source": [
        "# Plot the number of launches per year\n",
        "plt.figure(figsize=(16, 8))\n",
        "sns.lineplot(data=launches_per_year, x=\"Year\", y=\"Number of Launches\", marker=\"o\")\n",
        "plt.title(\"Number of Launches per Year\")\n",
        "plt.xlabel(\"Year\")\n",
        "plt.ylabel(\"Number of Launches\")\n",
        "plt.grid(True)\n",
        "plt.show()"
      ]
    },
    {
      "cell_type": "markdown",
      "metadata": {
        "id": "NomJVLi3tIaM"
      },
      "source": [
        "# Chart the Number of Launches Month-on-Month until the Present\n",
        "\n",
        "Which month has seen the highest number of launches in all time? Superimpose a rolling average on the month on month time series chart.\n"
      ]
    },
    {
      "cell_type": "code",
      "execution_count": null,
      "metadata": {},
      "outputs": [],
      "source": [
        "# Extract the month and year from the 'Datetime' column and create a new column 'YearMonth'\n",
        "df_data[\"YearMonth\"] = df_data[\"Datetime\"].dt.to_period(\"M\")\n",
        "\n",
        "# Group by 'YearMonth' and count the number of launches\n",
        "launches_per_month = (\n",
        "    df_data.groupby(\"YearMonth\").size().reset_index(name=\"Number of Launches\")\n",
        ")\n",
        "\n",
        "# Convert 'YearMonth' back to datetime for plotting\n",
        "launches_per_month[\"YearMonth\"] = launches_per_month[\"YearMonth\"].dt.to_timestamp()\n",
        "\n",
        "# Calculate the rolling average (e.g., 12-month rolling average)\n",
        "launches_per_month[\"Rolling Average\"] = (\n",
        "    launches_per_month[\"Number of Launches\"].rolling(window=12).mean()\n",
        ")"
      ]
    },
    {
      "cell_type": "code",
      "execution_count": null,
      "metadata": {
        "id": "pfw0aX1lpdRv"
      },
      "outputs": [],
      "source": [
        "# Plot the number of launches per month with a rolling average\n",
        "plt.figure(figsize=(16, 8))\n",
        "sns.lineplot(\n",
        "    data=launches_per_month,\n",
        "    x=\"YearMonth\",\n",
        "    y=\"Number of Launches\",\n",
        "    marker=\"o\",\n",
        "    label=\"Monthly Launches\",\n",
        ")\n",
        "sns.lineplot(\n",
        "    data=launches_per_month,\n",
        "    x=\"YearMonth\",\n",
        "    y=\"Rolling Average\",\n",
        "    marker=\"o\",\n",
        "    label=\"12-Month Rolling Average\",\n",
        "    color=\"red\",\n",
        ")\n",
        "plt.title(\"Number of Launches Month-on-Month with Rolling Average\")\n",
        "plt.xlabel(\"Year-Month\")\n",
        "plt.ylabel(\"Number of Launches\")\n",
        "plt.legend()\n",
        "plt.grid(True)\n",
        "plt.show()\n",
        "\n",
        "# Find the month with the highest number of launches\n",
        "max_launches_month = launches_per_month.loc[\n",
        "    launches_per_month[\"Number of Launches\"].idxmax()\n",
        "]\n",
        "print(\n",
        "    f\"The month with the highest number of launches is {max_launches_month['YearMonth'].strftime('%Y-%m')} with {max_launches_month['Number of Launches']} launches.\"\n",
        ")"
      ]
    },
    {
      "cell_type": "markdown",
      "metadata": {
        "id": "t-avMIZoa-qh",
        "papermill": {
          "duration": 0.044409,
          "end_time": "2020-10-20T21:34:10.162592",
          "exception": false,
          "start_time": "2020-10-20T21:34:10.118183",
          "status": "completed"
        },
        "tags": []
      },
      "source": [
        "# Launches per Month: Which months are most popular and least popular for launches?\n",
        "\n",
        "Some months have better weather than others. Which time of year seems to be best for space missions?\n"
      ]
    },
    {
      "cell_type": "code",
      "execution_count": null,
      "metadata": {},
      "outputs": [],
      "source": [
        "launches_per_month.describe()"
      ]
    },
    {
      "cell_type": "code",
      "execution_count": null,
      "metadata": {
        "id": "fnk2m_cpppJo",
        "vscode": {
          "languageId": "markdown"
        }
      },
      "outputs": [],
      "source": [
        "# Extract the month from the 'Datetime' column and create a new column 'Month'\n",
        "\n",
        "df_data[\"Month\"] = df_data[\"Datetime\"].dt.month\n",
        "\n",
        "# Group by 'Month' and count the number of launches\n",
        "\n",
        "launches_per_month = df_data.groupby(\"Month\").size().reset_index(name=\"Number of Launches\")\n",
        "\n",
        "# Sort the values by the number of launches in descending order\n",
        "\n",
        "launches_per_month = launches_per_month.sort_values(by=\"Number of Launches\", ascending=False)\n",
        "\n",
        "# Display the result\n",
        "\n",
        "launches_per_month\n"
      ]
    },
    {
      "cell_type": "markdown",
      "metadata": {
        "id": "dPQ_N_sfa-qo",
        "papermill": {
          "duration": 0.067915,
          "end_time": "2020-10-20T21:34:11.122539",
          "exception": false,
          "start_time": "2020-10-20T21:34:11.054624",
          "status": "completed"
        },
        "tags": []
      },
      "source": [
        "# How has the Launch Price varied Over Time?\n",
        "\n",
        "Create a line chart that shows the average price of rocket launches over time.\n"
      ]
    },
    {
      "cell_type": "code",
      "execution_count": null,
      "metadata": {
        "vscode": {
          "languageId": "markdown"
        }
      },
      "outputs": [],
      "source": [
        "# Group by 'Year' and calculate the average price per year\n",
        "\n",
        "avg_price_per_year = df_data.groupby(\"Year\")[\"Price\"].mean().reset_index()\n",
        "avg_price_per_year.tail(10)\n"
      ]
    },
    {
      "cell_type": "code",
      "execution_count": null,
      "metadata": {
        "id": "ggYFiAsEqC6J"
      },
      "outputs": [],
      "source": [
        "# Plot the average price per year\n",
        "plt.figure(figsize=(16, 8))\n",
        "sns.lineplot(data=avg_price_per_year, x=\"Year\", y=\"Price\", marker=\"o\")\n",
        "plt.title(\"Average Price of Rocket Launches Over Time\")\n",
        "plt.xlabel(\"Year\")\n",
        "plt.ylabel(\"Average Price (in USD millions)\")\n",
        "plt.grid(True)\n",
        "plt.show()"
      ]
    },
    {
      "cell_type": "markdown",
      "metadata": {
        "id": "8OYrWyiOa-qs",
        "papermill": {
          "duration": 0.047152,
          "end_time": "2020-10-20T21:34:11.681371",
          "exception": false,
          "start_time": "2020-10-20T21:34:11.634219",
          "status": "completed"
        },
        "tags": []
      },
      "source": [
        "# Chart the Number of Launches over Time by the Top 10 Organisations.\n",
        "\n",
        "How has the dominance of launches changed over time between the different players?\n"
      ]
    },
    {
      "cell_type": "code",
      "execution_count": null,
      "metadata": {
        "id": "RcsrPPpAqVFj"
      },
      "outputs": [],
      "source": []
    },
    {
      "cell_type": "code",
      "execution_count": null,
      "metadata": {
        "id": "1IgfafiyqWEe"
      },
      "outputs": [],
      "source": [
        "# Identify the top 10 organizations by the total number of launches\n",
        "top_10_orgs = df_data[\"Organisation\"].value_counts().head(10).index\n",
        "\n",
        "# Filter the dataframe to include only the top 10 organizations\n",
        "df_top_10_orgs = df_data[df_data[\"Organisation\"].isin(top_10_orgs)]\n",
        "\n",
        "# Group by 'Year' and 'Organisation' and count the number of launches\n",
        "launches_per_year_org = (\n",
        "    df_top_10_orgs.groupby([\"Year\", \"Organisation\"])\n",
        "    .size()\n",
        "    .reset_index(name=\"Number of Launches\")\n",
        ")\n",
        "launches_per_year_org.sort_values(by=\"Number of Launches\", ascending=False)"
      ]
    },
    {
      "cell_type": "code",
      "execution_count": null,
      "metadata": {
        "id": "akCDKT8CqVjG"
      },
      "outputs": [],
      "source": [
        "# Plot the number of launches over time by the top 10 organizations\n",
        "plt.figure(figsize=(16, 8))\n",
        "sns.lineplot(\n",
        "    data=launches_per_year_org,\n",
        "    x=\"Year\",\n",
        "    y=\"Number of Launches\",\n",
        "    hue=\"Organisation\",\n",
        "    marker=\"o\",\n",
        ")\n",
        "plt.title(\"Number of Launches over Time by the Top 10 Organisations\")\n",
        "plt.xlabel(\"Year\")\n",
        "plt.ylabel(\"Number of Launches\")\n",
        "plt.legend(title=\"Organisation\")\n",
        "plt.grid(True)\n",
        "plt.show()"
      ]
    },
    {
      "cell_type": "markdown",
      "metadata": {
        "id": "6Cm8_ch6a-q7",
        "papermill": {
          "duration": 0.052399,
          "end_time": "2020-10-20T21:34:13.756781",
          "exception": false,
          "start_time": "2020-10-20T21:34:13.704382",
          "status": "completed"
        },
        "tags": []
      },
      "source": [
        "# Cold War Space Race: USA vs USSR\n",
        "\n",
        "The cold war lasted from the start of the dataset up until 1991.\n"
      ]
    },
    {
      "cell_type": "code",
      "execution_count": 67,
      "metadata": {
        "id": "cOe_t4OmrHr9"
      },
      "outputs": [],
      "source": [
        "# Filter the dataframe to include only the years up to 1991\n",
        "df_cold_war = df_data[df_data[\"Year\"] <= 1991]\n",
        "\n",
        "# Filter the dataframe to include only the USA and USSR (including Kazakhstan as part of USSR)\n",
        "df_cold_war = df_cold_war[\n",
        "    df_cold_war[\"launch_country\"].isin([\"USA\", \"Russian Federation\", \"Kazakhstan\"])\n",
        "]\n",
        "\n",
        "# Group by 'Year' and 'launch_country' and count the number of launches\n",
        "launches_cold_war = (\n",
        "    df_cold_war.groupby([\"Year\", \"launch_country\"])\n",
        "    .size()\n",
        "    .reset_index(name=\"Number of Launches\")\n",
        ")"
      ]
    },
    {
      "cell_type": "code",
      "execution_count": null,
      "metadata": {},
      "outputs": [],
      "source": [
        "# Plot the number of launches over time by the USA and USSR\n",
        "plt.figure(figsize=(16, 8))\n",
        "sns.lineplot(\n",
        "    data=launches_cold_war,\n",
        "    x=\"Year\",\n",
        "    y=\"Number of Launches\",\n",
        "    hue=\"launch_country\",\n",
        "    marker=\"o\",\n",
        ")\n",
        "plt.title(\"Number of Launches by USA and USSR during the Cold War (up to 1991)\")\n",
        "plt.xlabel(\"Year\")\n",
        "plt.ylabel(\"Number of Launches\")\n",
        "plt.legend(title=\"Country\")\n",
        "plt.grid(True)\n",
        "plt.show()"
      ]
    },
    {
      "cell_type": "markdown",
      "metadata": {
        "id": "Os-3A5vLa-q9",
        "papermill": {
          "duration": 0.054318,
          "end_time": "2020-10-20T21:34:14.089604",
          "exception": false,
          "start_time": "2020-10-20T21:34:14.035286",
          "status": "completed"
        },
        "tags": []
      },
      "source": [
        "## Create a Plotly Pie Chart comparing the total number of launches of the USSR and the USA\n",
        "\n",
        "Hint: Remember to include former Soviet Republics like Kazakhstan when analysing the total number of launches.\n"
      ]
    },
    {
      "cell_type": "code",
      "execution_count": 69,
      "metadata": {},
      "outputs": [],
      "source": [
        "# Filter the dataframe to include only the USA and USSR (including Kazakhstan as part of USSR)\n",
        "df_ussr_usa = df_data[\n",
        "    df_data[\"launch_country\"].isin([\"USA\", \"Russian Federation\", \"Kazakhstan\"])\n",
        "]\n",
        "\n",
        "# Group by 'launch_country' and count the number of launches\n",
        "launches_ussr_usa = df_ussr_usa[\"launch_country\"].value_counts().reset_index()\n",
        "launches_ussr_usa.columns = [\"launch_country\", \"Number of Launches\"]\n",
        "\n",
        "# Combine the counts for Russian Federation and Kazakhstan as USSR\n",
        "launches_ussr_usa.loc[\n",
        "    launches_ussr_usa[\"launch_country\"].isin([\"Russian Federation\", \"Kazakhstan\"]),\n",
        "    \"launch_country\",\n",
        "] = \"USSR\"\n",
        "launches_ussr_usa = launches_ussr_usa.groupby(\"launch_country\").sum().reset_index()"
      ]
    },
    {
      "cell_type": "code",
      "execution_count": null,
      "metadata": {
        "id": "OhhuLQycrEE-"
      },
      "outputs": [],
      "source": [
        "# Create the pie chart\n",
        "fig = px.pie(\n",
        "    launches_ussr_usa,\n",
        "    names=\"launch_country\",\n",
        "    values=\"Number of Launches\",\n",
        "    title=\"Total Number of Launches: USSR vs USA\",\n",
        "    color_discrete_sequence=px.colors.sequential.Rainbow,\n",
        ")\n",
        "\n",
        "fig.show()"
      ]
    },
    {
      "cell_type": "markdown",
      "metadata": {
        "id": "0C29Zz4xa-rA",
        "papermill": {
          "duration": 0.052921,
          "end_time": "2020-10-20T21:34:14.340085",
          "exception": false,
          "start_time": "2020-10-20T21:34:14.287164",
          "status": "completed"
        },
        "tags": []
      },
      "source": [
        "## Create a Chart that Shows the Total Number of Launches Year-On-Year by the Two Superpowers\n"
      ]
    },
    {
      "cell_type": "code",
      "execution_count": 83,
      "metadata": {},
      "outputs": [],
      "source": [
        "# Filter the dataframe to include only the USA and USSR (including Kazakhstan as part of USSR)\n",
        "df_superpowers = df_data[\n",
        "    df_data[\"launch_country\"].isin([\"USA\", \"Russian Federation\", \"Kazakhstan\"])\n",
        "]\n",
        "\n",
        "# Group by 'Year' and 'launch_country' and count the number of launches\n",
        "launches_superpowers = (\n",
        "    df_superpowers.groupby([\"Year\", \"launch_country\"])\n",
        "    .size()\n",
        "    .reset_index(name=\"Number of Launches\")\n",
        ")\n",
        "\n",
        "# Combine the counts for Russian Federation and Kazakhstan as USSR\n",
        "launches_superpowers.loc[\n",
        "    launches_superpowers[\"launch_country\"].isin([\"Russian Federation\", \"Kazakhstan\"]),\n",
        "    \"launch_country\",\n",
        "] = \"USSR\"\n",
        "launches_superpowers = (\n",
        "    launches_superpowers.groupby([\"Year\", \"launch_country\"]).sum().reset_index()\n",
        ")"
      ]
    },
    {
      "cell_type": "code",
      "execution_count": null,
      "metadata": {
        "id": "oCc7VTzGrTK-"
      },
      "outputs": [],
      "source": [
        "# Plot the number of launches year-on-year by the two superpowers\n",
        "plt.figure(figsize=(16, 8))\n",
        "sns.lineplot(\n",
        "    data=launches_superpowers,\n",
        "    x=\"Year\",\n",
        "    y=\"Number of Launches\",\n",
        "    hue=\"launch_country\",\n",
        "    marker=\"o\",\n",
        ")\n",
        "plt.title(\"Total Number of Launches Year-On-Year by the Two Superpowers\")\n",
        "plt.xlabel(\"Year\")\n",
        "plt.ylabel(\"Number of Launches\")\n",
        "plt.legend(title=\"Country\")\n",
        "plt.grid(True)\n",
        "plt.show()"
      ]
    },
    {
      "cell_type": "markdown",
      "metadata": {
        "id": "eWv4iZmra-rE",
        "papermill": {
          "duration": 0.079311,
          "end_time": "2020-10-20T21:34:14.933058",
          "exception": false,
          "start_time": "2020-10-20T21:34:14.853747",
          "status": "completed"
        },
        "tags": []
      },
      "source": [
        "## Chart the Total Number of Mission Failures Year on Year.\n"
      ]
    },
    {
      "cell_type": "code",
      "execution_count": 85,
      "metadata": {},
      "outputs": [],
      "source": [
        "# Filter the dataframe to include only failed missions\n",
        "df_failures_yearly = df_data[df_data[\"Mission_status\"] == \"Failure\"]\n",
        "\n",
        "# Group by 'Year' and count the number of failures\n",
        "failures_per_year = (\n",
        "    df_failures_yearly.groupby(\"Year\").size().reset_index(name=\"Number of Failures\")\n",
        ")"
      ]
    },
    {
      "cell_type": "code",
      "execution_count": null,
      "metadata": {
        "id": "7Ps9Iq_crfYl"
      },
      "outputs": [],
      "source": [
        "# Plot the number of mission failures per year\n",
        "plt.figure(figsize=(16, 8))\n",
        "sns.lineplot(data=failures_per_year, x=\"Year\", y=\"Number of Failures\", marker=\"o\")\n",
        "plt.title(\"Total Number of Mission Failures Year on Year\")\n",
        "plt.xlabel(\"Year\")\n",
        "plt.ylabel(\"Number of Failures\")\n",
        "plt.grid(True)\n",
        "plt.show()"
      ]
    },
    {
      "cell_type": "markdown",
      "metadata": {
        "id": "XNp-NkrJriEF"
      },
      "source": [
        "## Chart the Percentage of Failures over Time\n",
        "\n",
        "Did failures go up or down over time? Did the countries get better at minimising risk and improving their chances of success over time?\n"
      ]
    },
    {
      "cell_type": "code",
      "execution_count": 87,
      "metadata": {
        "id": "nxnnzx89rwvH"
      },
      "outputs": [],
      "source": [
        "# Calculate the total number of launches per year\n",
        "total_launches_per_year = (\n",
        "    df_data.groupby(\"Year\").size().reset_index(name=\"Total Launches\")\n",
        ")\n",
        "\n",
        "# Calculate the number of failures per year\n",
        "failures_per_year = (\n",
        "    df_data[df_data[\"Mission_status\"] == \"Failure\"]\n",
        "    .groupby(\"Year\")\n",
        "    .size()\n",
        "    .reset_index(name=\"Number of Failures\")\n",
        ")\n",
        "\n",
        "# Merge the two dataframes on 'Year'\n",
        "failures_percentage_per_year = pd.merge(\n",
        "    total_launches_per_year, failures_per_year, on=\"Year\", how=\"left\"\n",
        ")\n",
        "\n",
        "# Calculate the percentage of failures\n",
        "failures_percentage_per_year[\"Failure Percentage\"] = (\n",
        "    failures_percentage_per_year[\"Number of Failures\"]\n",
        "    / failures_percentage_per_year[\"Total Launches\"]\n",
        ") * 100"
      ]
    },
    {
      "cell_type": "code",
      "execution_count": null,
      "metadata": {
        "id": "_TPWaaJ5r1Fz"
      },
      "outputs": [],
      "source": [
        "# Plot the percentage of failures over time\n",
        "plt.figure(figsize=(16, 8))\n",
        "sns.lineplot(\n",
        "    data=failures_percentage_per_year, x=\"Year\", y=\"Failure Percentage\", marker=\"o\"\n",
        ")\n",
        "plt.title(\"Percentage of Mission Failures Over Time\")\n",
        "plt.xlabel(\"Year\")\n",
        "plt.ylabel(\"Failure Percentage\")\n",
        "plt.grid(True)\n",
        "plt.show()"
      ]
    },
    {
      "cell_type": "markdown",
      "metadata": {
        "id": "S5aOC7bGr2OX"
      },
      "source": [
        "# For Every Year Show which Country was in the Lead in terms of Total Number of Launches up to and including including 2020)\n",
        "\n",
        "Do the results change if we only look at the number of successful launches?\n"
      ]
    },
    {
      "cell_type": "code",
      "execution_count": null,
      "metadata": {},
      "outputs": [],
      "source": [
        "# Group by 'Year' and 'launch_country' and count the number of launches\n",
        "total_launches_per_year_country = (\n",
        "    df_data.groupby([\"Year\", \"launch_country\"])\n",
        "    .size()\n",
        "    .reset_index(name=\"Total Launches\")\n",
        ")\n",
        "\n",
        "# Find the country with the maximum launches each year\n",
        "leading_country_per_year = total_launches_per_year_country.loc[\n",
        "    total_launches_per_year_country.groupby(\"Year\")[\"Total Launches\"].idxmax()\n",
        "]\n",
        "\n",
        "# Display the result\n",
        "print(\"Leading country per year based on total launches:\")\n",
        "print(leading_country_per_year)\n",
        "\n",
        "# Filter the dataframe to include only successful missions\n",
        "df_successful = df_data[df_data[\"Mission_status\"] == \"Success\"]\n",
        "\n",
        "# Group by 'Year' and 'launch_country' and count the number of successful launches\n",
        "successful_launches_per_year_country = (\n",
        "    df_successful.groupby([\"Year\", \"launch_country\"])\n",
        "    .size()\n",
        "    .reset_index(name=\"Successful Launches\")\n",
        ")\n",
        "\n",
        "# Find the country with the maximum successful launches each year\n",
        "leading_country_per_year_successful = successful_launches_per_year_country.loc[\n",
        "    successful_launches_per_year_country.groupby(\"Year\")[\"Successful Launches\"].idxmax()\n",
        "]\n",
        "\n",
        "# Display the result\n",
        "print(\"\\nLeading country per year based on successful launches:\")\n",
        "print(leading_country_per_year_successful)"
      ]
    },
    {
      "cell_type": "code",
      "execution_count": null,
      "metadata": {},
      "outputs": [],
      "source": [
        "# Plot the leading country per year based on total launches\n",
        "plt.figure(figsize=(16, 8))\n",
        "sns.lineplot(\n",
        "    data=leading_country_per_year,\n",
        "    x=\"Year\",\n",
        "    y=\"Total Launches\",\n",
        "    hue=\"launch_country\",\n",
        "    marker=\"o\",\n",
        ")\n",
        "plt.title(\"Leading Country per Year Based on Total Launches\")\n",
        "plt.xlabel(\"Year\")\n",
        "plt.ylabel(\"Total Launches\")\n",
        "plt.legend(title=\"Country\")\n",
        "plt.grid(True)\n",
        "plt.show()"
      ]
    },
    {
      "cell_type": "code",
      "execution_count": null,
      "metadata": {
        "id": "zgVysedmsOp4"
      },
      "outputs": [],
      "source": [
        "# Plot the leading country per year based on successful launches\n",
        "plt.figure(figsize=(16, 8))\n",
        "sns.lineplot(\n",
        "    data=leading_country_per_year_successful,\n",
        "    x=\"Year\",\n",
        "    y=\"Successful Launches\",\n",
        "    hue=\"launch_country\",\n",
        "    marker=\"o\",\n",
        ")\n",
        "plt.title(\"Leading Country per Year Based on Successful Launches\")\n",
        "plt.xlabel(\"Year\")\n",
        "plt.ylabel(\"Successful Launches\")\n",
        "plt.legend(title=\"Country\")\n",
        "plt.grid(True)\n",
        "plt.show()"
      ]
    },
    {
      "cell_type": "markdown",
      "metadata": {
        "id": "jQcqBfJ8serG"
      },
      "source": [
        "# Create a Year-on-Year Chart Showing the Organisation Doing the Most Number of Launches\n",
        "\n",
        "Which organisation was dominant in the 1970s and 1980s? Which organisation was dominant in 2018, 2019 and 2020?\n"
      ]
    },
    {
      "cell_type": "code",
      "execution_count": 93,
      "metadata": {},
      "outputs": [],
      "source": [
        "# Group by 'Year' and 'Organisation' and count the number of launches\n",
        "launches_per_year_org = (\n",
        "    df_data.groupby([\"Year\", \"Organisation\"])\n",
        "    .size()\n",
        "    .reset_index(name=\"Number of Launches\")\n",
        ")\n",
        "\n",
        "# Find the organisation with the maximum launches each year\n",
        "leading_org_per_year = launches_per_year_org.loc[\n",
        "    launches_per_year_org.groupby(\"Year\")[\"Number of Launches\"].idxmax()\n",
        "]"
      ]
    },
    {
      "cell_type": "code",
      "execution_count": null,
      "metadata": {
        "id": "r5frxzwlsz5W"
      },
      "outputs": [],
      "source": [
        "# Plot the leading organisation per year based on total launches\n",
        "plt.figure(figsize=(16, 8))\n",
        "sns.lineplot(\n",
        "    data=leading_org_per_year,\n",
        "    x=\"Year\",\n",
        "    y=\"Number of Launches\",\n",
        "    hue=\"Organisation\",\n",
        "    marker=\"o\",\n",
        ")\n",
        "plt.title(\"Leading Organisation per Year Based on Total Launches\")\n",
        "plt.xlabel(\"Year\")\n",
        "plt.ylabel(\"Number of Launches\")\n",
        "plt.legend(title=\"Organisation\")\n",
        "plt.grid(True)\n",
        "plt.show()"
      ]
    },
    {
      "cell_type": "code",
      "execution_count": null,
      "metadata": {
        "id": "8vHKpuc5a-rc",
        "papermill": {
          "duration": 0.092403,
          "end_time": "2020-10-20T21:34:26.709168",
          "exception": false,
          "start_time": "2020-10-20T21:34:26.616765",
          "status": "completed"
        },
        "tags": []
      },
      "outputs": [],
      "source": [
        "# Display the leading organisations in the 1970s, 1980s, 2018, 2019, and 2020\n",
        "dominant_orgs = leading_org_per_year[\n",
        "    leading_org_per_year[\"Year\"].isin(range(1970, 1990))\n",
        "    | leading_org_per_year[\"Year\"].isin([2018, 2019, 2020])\n",
        "]\n",
        "print(\"Dominant organisations in the 1970s, 1980s, 2018, 2019, and 2020:\")\n",
        "print(dominant_orgs)"
      ]
    }
  ],
  "metadata": {
    "colab": {
      "name": "Space Missions Analysis (start).ipynb",
      "provenance": []
    },
    "kernelspec": {
      "display_name": ".venv",
      "language": "python",
      "name": "python3"
    },
    "language_info": {
      "codemirror_mode": {
        "name": "ipython",
        "version": 3
      },
      "file_extension": ".py",
      "mimetype": "text/x-python",
      "name": "python",
      "nbconvert_exporter": "python",
      "pygments_lexer": "ipython3",
      "version": "3.13.0"
    },
    "papermill": {
      "duration": 28.468597,
      "end_time": "2020-10-20T21:34:26.910951",
      "environment_variables": {},
      "exception": null,
      "input_path": "__notebook__.ipynb",
      "output_path": "__notebook__.ipynb",
      "parameters": {},
      "start_time": "2020-10-20T21:33:58.442354",
      "version": "2.1.0"
    }
  },
  "nbformat": 4,
  "nbformat_minor": 0
}
