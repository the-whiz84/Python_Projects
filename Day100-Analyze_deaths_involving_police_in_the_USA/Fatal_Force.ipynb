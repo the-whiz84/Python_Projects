{
  "cells": [
    {
      "cell_type": "markdown",
      "metadata": {
        "id": "0KrR-Qd_wXf-"
      },
      "source": [
        "# Introduction\n"
      ]
    },
    {
      "cell_type": "markdown",
      "metadata": {
        "id": "I6e2m4XsuRoL"
      },
      "source": [
        "Since Jan. 1, 2015, [The Washington Post](https://www.washingtonpost.com/) has been compiling a database of every fatal shooting in the US by a police officer in the line of duty.\n",
        "\n",
        "<center><img src=https://i.imgur.com/sX3K62b.png></center>\n",
        "\n",
        "While there are many challenges regarding data collection and reporting, The Washington Post has been tracking more than a dozen details about each killing. This includes the race, age and gender of the deceased, whether the person was armed, and whether the victim was experiencing a mental-health crisis. The Washington Post has gathered this supplemental information from law enforcement websites, local new reports, social media, and by monitoring independent databases such as \"Killed by police\" and \"Fatal Encounters\". The Post has also conducted additional reporting in many cases.\n",
        "\n",
        "There are 4 additional datasets: US census data on poverty rate, high school graduation rate, median household income, and racial demographics. [Source of census data](https://factfinder.census.gov/faces/nav/jsf/pages/community_facts.xhtml).\n"
      ]
    },
    {
      "cell_type": "markdown",
      "metadata": {
        "id": "JwGJl3mnw2Af"
      },
      "source": [
        "### Upgrade Plotly\n",
        "\n",
        "Run the cell below if you are working with Google Colab\n"
      ]
    },
    {
      "cell_type": "code",
      "execution_count": null,
      "metadata": {
        "colab": {
          "base_uri": "https://localhost:8080/"
        },
        "id": "KvA9PBoRwvQG",
        "outputId": "ca6ee2a1-8da5-4f2d-f2b2-ea019cd92cae"
      },
      "outputs": [],
      "source": [
        "%pip install --upgrade plotly"
      ]
    },
    {
      "cell_type": "markdown",
      "metadata": {
        "id": "jqXsMLNJxELp"
      },
      "source": [
        "## Import Statements\n"
      ]
    },
    {
      "cell_type": "code",
      "execution_count": 2,
      "metadata": {
        "id": "TPhEXC2FxGSr"
      },
      "outputs": [],
      "source": [
        "import numpy as np\n",
        "import pandas as pd\n",
        "import plotly.express as px\n",
        "import matplotlib.pyplot as plt\n",
        "import seaborn as sns\n",
        "\n",
        "# This might be helpful:\n",
        "from collections import Counter"
      ]
    },
    {
      "cell_type": "markdown",
      "metadata": {
        "id": "SwKGmmaLxS2s"
      },
      "source": [
        "## Notebook Presentation\n"
      ]
    },
    {
      "cell_type": "code",
      "execution_count": 3,
      "metadata": {
        "id": "ayQQqhKtxBxj"
      },
      "outputs": [],
      "source": [
        "pd.options.display.float_format = \"{:,.2f}\".format"
      ]
    },
    {
      "cell_type": "markdown",
      "metadata": {
        "id": "nKxJMOiMyAUF"
      },
      "source": [
        "## Load the Data\n"
      ]
    },
    {
      "cell_type": "code",
      "execution_count": 4,
      "metadata": {
        "_cell_guid": "abb0685f-f844-43f8-84c0-4cd54361c7bf",
        "_uuid": "9c06ed7c41db79ae9d940f2d52aeff23621b3037",
        "id": "8KmGeg6ouRoP"
      },
      "outputs": [],
      "source": [
        "df_hh_income = pd.read_csv(\"Median_Household_Income_2015.csv\", encoding=\"windows-1252\")\n",
        "df_pct_poverty = pd.read_csv(\n",
        "    \"Pct_People_Below_Poverty_Level.csv\", encoding=\"windows-1252\"\n",
        ")\n",
        "df_pct_completed_hs = pd.read_csv(\n",
        "    \"Pct_Over_25_Completed_High_School.csv\", encoding=\"windows-1252\"\n",
        ")\n",
        "df_share_race_city = pd.read_csv(\"Share_of_Race_By_City.csv\", encoding=\"windows-1252\")\n",
        "df_fatalities = pd.read_csv(\"Deaths_by_Police_US.csv\", encoding=\"windows-1252\")"
      ]
    },
    {
      "cell_type": "markdown",
      "metadata": {
        "id": "6RuA5SvUyEaB"
      },
      "source": [
        "# Preliminary Data Exploration\n",
        "\n",
        "- What is the shape of the DataFrames?\n",
        "- How many rows and columns do they have?\n",
        "- What are the column names?\n",
        "- Are there any NaN values or duplicates?\n"
      ]
    },
    {
      "cell_type": "code",
      "execution_count": null,
      "metadata": {
        "id": "3U9RcS1WyrRJ"
      },
      "outputs": [],
      "source": [
        "print(df_hh_income.shape)\n",
        "print(df_pct_poverty.shape)\n",
        "print(df_pct_completed_hs.shape)\n",
        "print(df_share_race_city.shape)\n",
        "print(df_fatalities.shape)"
      ]
    },
    {
      "cell_type": "code",
      "execution_count": null,
      "metadata": {
        "id": "DmIARadGyrgs"
      },
      "outputs": [],
      "source": [
        "print(df_hh_income.head())\n",
        "print(df_pct_poverty.head())\n",
        "print(df_pct_completed_hs.head())\n",
        "print(df_share_race_city.head())\n",
        "df_fatalities.head()"
      ]
    },
    {
      "cell_type": "code",
      "execution_count": null,
      "metadata": {
        "id": "OSgTJoX7yrcS"
      },
      "outputs": [],
      "source": [
        "print(df_hh_income.info())\n",
        "print(df_pct_poverty.info())\n",
        "print(df_pct_completed_hs.info())\n",
        "print(df_share_race_city.info())\n",
        "df_fatalities.info()"
      ]
    },
    {
      "cell_type": "markdown",
      "metadata": {
        "id": "p72TfMvayr2C"
      },
      "source": [
        "## Data Cleaning - Check for Missing Values and Duplicates\n",
        "\n",
        "Consider how to deal with the NaN values. Perhaps substituting 0 is appropriate.\n"
      ]
    },
    {
      "cell_type": "code",
      "execution_count": null,
      "metadata": {
        "id": "WEZuPaXvyxxp"
      },
      "outputs": [],
      "source": [
        "print(df_hh_income.duplicated().values.any())\n",
        "print(df_pct_poverty.duplicated().values.any())\n",
        "print(df_pct_completed_hs.duplicated().values.any())\n",
        "print(df_share_race_city.duplicated().values.any())\n",
        "df_fatalities.duplicated().values.any()"
      ]
    },
    {
      "cell_type": "code",
      "execution_count": 11,
      "metadata": {
        "id": "550aSczryx01"
      },
      "outputs": [],
      "source": [
        "df_hh_income.fillna(0, inplace=True)\n",
        "df_pct_poverty.fillna(0, inplace=True)\n",
        "df_pct_completed_hs.fillna(0, inplace=True)\n",
        "df_share_race_city.fillna(0, inplace=True)\n",
        "df_fatalities.fillna(0, inplace=True)"
      ]
    },
    {
      "cell_type": "markdown",
      "metadata": {
        "_uuid": "52b308c936f5835c5cd186497fe3f96e96372483",
        "id": "n3DrcXVQuRoZ"
      },
      "source": [
        "# Chart the Poverty Rate in each US State\n",
        "\n",
        "Create a bar chart that ranks the poverty rate from highest to lowest by US state. Which state has the highest poverty rate? Which state has the lowest poverty rate? Bar Plot\n"
      ]
    },
    {
      "cell_type": "code",
      "execution_count": null,
      "metadata": {
        "id": "mGxEzMDqzqmn"
      },
      "outputs": [],
      "source": [
        "# Convert poverty_rate to numeric, forcing errors to NaN\n",
        "df_pct_poverty[\"poverty_rate\"] = pd.to_numeric(\n",
        "    df_pct_poverty[\"poverty_rate\"], errors=\"coerce\"\n",
        ")\n",
        "\n",
        "# Group by state and calculate the mean poverty rate\n",
        "state_poverty_rate = (\n",
        "    df_pct_poverty.groupby(\"Geographic Area\")[\"poverty_rate\"].mean().reset_index()\n",
        ")\n",
        "\n",
        "# Sort by poverty rate in descending order\n",
        "state_poverty_rate = state_poverty_rate.sort_values(by=\"poverty_rate\", ascending=False)\n",
        "\n",
        "state_poverty_rate.head()"
      ]
    },
    {
      "cell_type": "code",
      "execution_count": null,
      "metadata": {
        "id": "B3AM6oJQ1D_P"
      },
      "outputs": [],
      "source": [
        "# Create the bar chart\n",
        "fig = px.bar(\n",
        "    state_poverty_rate,\n",
        "    x=\"Geographic Area\",\n",
        "    y=\"poverty_rate\",\n",
        "    title=\"Poverty Rate by US State\",\n",
        "    labels={\"Geographic Area\": \"State\", \"poverty_rate\": \"Poverty Rate\"},\n",
        "    height=600,\n",
        ")\n",
        "\n",
        "fig.show()"
      ]
    },
    {
      "cell_type": "markdown",
      "metadata": {
        "id": "GhUibVz5z4sn"
      },
      "source": [
        "# Chart the High School Graduation Rate by US State\n",
        "\n",
        "Show the High School Graduation Rate in ascending order of US States. Which state has the lowest high school graduation rate? Which state has the highest?\n"
      ]
    },
    {
      "cell_type": "code",
      "execution_count": null,
      "metadata": {
        "id": "laD6W9eG0JFR"
      },
      "outputs": [],
      "source": [
        "# Convert percent_completed_hs to numeric, forcing errors to NaN\n",
        "df_pct_completed_hs[\"percent_completed_hs\"] = pd.to_numeric(\n",
        "    df_pct_completed_hs[\"percent_completed_hs\"], errors=\"coerce\"\n",
        ")\n",
        "\n",
        "# Group by state and calculate the mean high school graduation rate\n",
        "state_hs_grad_rate = (\n",
        "    df_pct_completed_hs.groupby(\"Geographic Area\")[\"percent_completed_hs\"]\n",
        "    .mean()\n",
        "    .reset_index()\n",
        ")\n",
        "\n",
        "# Sort by high school graduation rate in ascending order\n",
        "state_hs_grad_rate = state_hs_grad_rate.sort_values(\n",
        "    by=\"percent_completed_hs\", ascending=True\n",
        ")\n",
        "\n",
        "# Create the bar chart\n",
        "fig = px.bar(\n",
        "    state_hs_grad_rate,\n",
        "    x=\"Geographic Area\",\n",
        "    y=\"percent_completed_hs\",\n",
        "    title=\"High School Graduation Rate by US State\",\n",
        "    labels={\n",
        "        \"Geographic Area\": \"State\",\n",
        "        \"percent_completed_hs\": \"High School Graduation Rate\",\n",
        "    },\n",
        "    height=600,\n",
        ")\n",
        "\n",
        "fig.show()"
      ]
    },
    {
      "cell_type": "markdown",
      "metadata": {
        "id": "ENGTEmPQ0Rvt"
      },
      "source": [
        "# Visualise the Relationship between Poverty Rates and High School Graduation Rates\n",
        "\n",
        "#### Create a line chart with two y-axes to show if the rations of poverty and high school graduation move together.\n"
      ]
    },
    {
      "cell_type": "code",
      "execution_count": null,
      "metadata": {
        "id": "MkNk5U8v0JPB"
      },
      "outputs": [],
      "source": [
        "from plotly.subplots import make_subplots\n",
        "\n",
        "import plotly.graph_objects as go\n",
        "\n",
        "# Create a subplot with secondary y-axis\n",
        "fig = make_subplots(specs=[[{\"secondary_y\": True}]])\n",
        "\n",
        "# Add traces\n",
        "fig.add_trace(\n",
        "    go.Scatter(\n",
        "        x=state_poverty_rate[\"Geographic Area\"],\n",
        "        y=state_poverty_rate[\"poverty_rate\"],\n",
        "        name=\"Poverty Rate\",\n",
        "        mode=\"lines+markers\",\n",
        "    ),\n",
        "    secondary_y=False,\n",
        ")\n",
        "\n",
        "fig.add_trace(\n",
        "    go.Scatter(\n",
        "        x=state_hs_grad_rate[\"Geographic Area\"],\n",
        "        y=state_hs_grad_rate[\"percent_completed_hs\"],\n",
        "        name=\"High School Graduation Rate\",\n",
        "        mode=\"lines+markers\",\n",
        "    ),\n",
        "    secondary_y=True,\n",
        ")\n",
        "\n",
        "# Add figure title\n",
        "fig.update_layout(\n",
        "    title_text=\"Poverty Rates vs High School Graduation Rates by US State\"\n",
        ")\n",
        "\n",
        "# Set x-axis title\n",
        "fig.update_xaxes(title_text=\"State\")\n",
        "\n",
        "# Set y-axes titles\n",
        "fig.update_yaxes(title_text=\"Poverty Rate\", secondary_y=False)\n",
        "fig.update_yaxes(title_text=\"High School Graduation Rate\", secondary_y=True)\n",
        "\n",
        "fig.show()"
      ]
    },
    {
      "cell_type": "code",
      "execution_count": null,
      "metadata": {
        "id": "urRMqQG_0Nmo"
      },
      "outputs": [],
      "source": [
        "plt.figure(figsize=(16, 8), dpi=200)\n",
        "plt.title(\"Poverty Rates vs High School Graduation Rates by US State\", fontsize=18)\n",
        "\n",
        "ax1 = plt.gca()\n",
        "ax2 = ax1.twinx()  # create second y-axis\n",
        "\n",
        "ax1.plot(\n",
        "    state_hs_grad_rate[\"Geographic Area\"],\n",
        "    state_poverty_rate[\"poverty_rate\"],\n",
        "    c=\"crimson\",\n",
        "    linewidth=3,\n",
        ")\n",
        "ax1.set_ylabel(\"Poverty Rate\", color=\"crimson\", fontsize=14)\n",
        "# Adding prize share plot on second axis\n",
        "ax2.plot(\n",
        "    state_hs_grad_rate[\"Geographic Area\"],\n",
        "    state_hs_grad_rate[\"percent_completed_hs\"],\n",
        "    c=\"grey\",\n",
        "    linewidth=3,\n",
        ")\n",
        "ax2.set_ylabel(\"High School Graduation Rate\", color=\"grey\", fontsize=14)\n",
        "plt.show()"
      ]
    },
    {
      "cell_type": "markdown",
      "metadata": {
        "id": "Zavx_8PL1Jy9"
      },
      "source": [
        "#### Now use a Seaborn .jointplot() with a Kernel Density Estimate (KDE) and/or scatter plot to visualise the same relationship\n"
      ]
    },
    {
      "cell_type": "code",
      "execution_count": null,
      "metadata": {
        "id": "u77CHfdX0pjW"
      },
      "outputs": [],
      "source": [
        "sns.jointplot(\n",
        "    x=state_poverty_rate[\"poverty_rate\"],\n",
        "    y=state_hs_grad_rate[\"percent_completed_hs\"],\n",
        "    kind=\"scatter\",\n",
        "    marginal_kws=dict(bins=25, fill=True),\n",
        "    joint_kws=dict(alpha=0.5),\n",
        ").plot_joint(sns.kdeplot, color=\"r\", zorder=0, levels=6)\n",
        "plt.xlabel(\"Poverty Rate\")\n",
        "plt.ylabel(\"High School Graduation Rate\")\n",
        "plt.suptitle(\n",
        "    \"Relationship between Poverty Rates and High School Graduation Rates\", y=1.02\n",
        ")\n",
        "plt.show()"
      ]
    },
    {
      "cell_type": "code",
      "execution_count": null,
      "metadata": {
        "id": "CYy89o-u1zu0"
      },
      "outputs": [],
      "source": []
    },
    {
      "cell_type": "markdown",
      "metadata": {
        "id": "PXNFQmHl10Fx"
      },
      "source": [
        "#### Seaborn's `.lmplot()` or `.regplot()` to show a linear regression between the poverty ratio and the high school graduation ratio.\n"
      ]
    },
    {
      "cell_type": "code",
      "execution_count": null,
      "metadata": {
        "id": "F1xrjFgT1znI"
      },
      "outputs": [],
      "source": [
        "sns.lmplot(\n",
        "    x=\"poverty_rate\",\n",
        "    y=\"percent_completed_hs\",\n",
        "    data=pd.merge(state_poverty_rate, state_hs_grad_rate, on=\"Geographic Area\"),\n",
        "    aspect=2,\n",
        "    height=6,\n",
        ")\n",
        "plt.xlabel(\"Poverty Rate\")\n",
        "plt.ylabel(\"High School Graduation Rate\")\n",
        "plt.title(\"Linear Regression between Poverty Rate and High School Graduation Rate\")\n",
        "plt.show()"
      ]
    },
    {
      "cell_type": "markdown",
      "metadata": {
        "id": "QJTbZZKg0p6i"
      },
      "source": [
        "# Create a Bar Chart with Subsections Showing the Racial Makeup of Each US State\n",
        "\n",
        "Visualise the share of the white, black, hispanic, asian and native american population in each US State using a bar chart with sub sections.\n"
      ]
    },
    {
      "cell_type": "code",
      "execution_count": 36,
      "metadata": {
        "id": "YQbXb6Ex09D9",
        "vscode": {
          "languageId": "ruby"
        }
      },
      "outputs": [],
      "source": [
        "# Convert share columns to numeric\n",
        "df_share_race_city['share_white'] = pd.to_numeric(df_share_race_city['share_white'], errors='coerce')\n",
        "df_share_race_city['share_black'] = pd.to_numeric(df_share_race_city['share_black'], errors='coerce')\n",
        "df_share_race_city['share_native_american'] = pd.to_numeric(df_share_race_city['share_native_american'], errors='coerce')\n",
        "df_share_race_city['share_asian'] = pd.to_numeric(df_share_race_city['share_asian'], errors='coerce')\n",
        "df_share_race_city['share_hispanic'] = pd.to_numeric(df_share_race_city['share_hispanic'], errors='coerce')\n",
        "\n",
        "# Ensure the 'Geographic area' column is not included in the mean calculation\n",
        "state_race_share = df_share_race_city.groupby('Geographic area').agg({\n",
        "    'share_white': 'mean',\n",
        "    'share_black': 'mean',\n",
        "    'share_native_american': 'mean',\n",
        "    'share_asian': 'mean',\n",
        "    'share_hispanic': 'mean'\n",
        "}).reset_index()"
      ]
    },
    {
      "cell_type": "code",
      "execution_count": null,
      "metadata": {
        "id": "LqrimlLo09Na"
      },
      "outputs": [],
      "source": [
        "# Create the bar chart\n",
        "fig = px.bar(\n",
        "    state_race_share,\n",
        "    x=\"Geographic area\",\n",
        "    y=[\n",
        "        \"share_white\",\n",
        "        \"share_black\",\n",
        "        \"share_native_american\",\n",
        "        \"share_asian\",\n",
        "        \"share_hispanic\",\n",
        "    ],\n",
        "    title=\"Racial Makeup of Each US State\",\n",
        "    labels={\"Geographic area\": \"State\", \"value\": \"Share\"},\n",
        "    barmode=\"stack\",\n",
        "    height=600,\n",
        ")\n",
        "\n",
        "fig.show()"
      ]
    },
    {
      "cell_type": "markdown",
      "metadata": {
        "_uuid": "77493cfd86a031612be8fb8d60f27713e74e6d80",
        "id": "K7xvQXkjuRo7"
      },
      "source": [
        "# Create Donut Chart by of People Killed by Race\n",
        "\n",
        "Hint: Use `.value_counts()`\n"
      ]
    },
    {
      "cell_type": "code",
      "execution_count": null,
      "metadata": {
        "id": "1nOafPdy1u9Z"
      },
      "outputs": [],
      "source": [
        "# Get the counts of each race\n",
        "race_counts = df_fatalities[\"race\"].value_counts()\n",
        "\n",
        "# Create the donut chart\n",
        "fig = px.pie(\n",
        "    names=race_counts.index,\n",
        "    values=race_counts.values,\n",
        "    title=\"People Killed by Race\",\n",
        "    hole=0.4,\n",
        ")\n",
        "\n",
        "fig.show()"
      ]
    },
    {
      "cell_type": "code",
      "execution_count": null,
      "metadata": {
        "id": "YN3hzJTe1vHJ"
      },
      "outputs": [],
      "source": []
    },
    {
      "cell_type": "markdown",
      "metadata": {
        "id": "kr-8Rezn3Bep"
      },
      "source": [
        "# Create a Chart Comparing the Total Number of Deaths of Men and Women\n",
        "\n",
        "Use `df_fatalities` to illustrate how many more men are killed compared to women.\n"
      ]
    },
    {
      "cell_type": "code",
      "execution_count": null,
      "metadata": {
        "id": "joH1L4303BsJ"
      },
      "outputs": [],
      "source": [
        "# Count the number of deaths by gender\n",
        "gender_counts = df_fatalities[\"gender\"].value_counts()\n",
        "\n",
        "# Create the bar chart\n",
        "fig = px.bar(\n",
        "    gender_counts,\n",
        "    x=gender_counts.index,\n",
        "    y=gender_counts.values,\n",
        "    title=\"Total Number of Deaths by Gender\",\n",
        "    labels={\"index\": \"Gender\", \"y\": \"Number of Deaths\"},\n",
        "    height=600,\n",
        ")\n",
        "\n",
        "fig.show()"
      ]
    },
    {
      "cell_type": "code",
      "execution_count": null,
      "metadata": {
        "id": "X4MrMkVa3MTk"
      },
      "outputs": [],
      "source": []
    },
    {
      "cell_type": "markdown",
      "metadata": {
        "_uuid": "cd1531c8421bfb6967cebf7039056779f9b960a6",
        "id": "ZxbBdvM0uRpQ"
      },
      "source": [
        "# Create a Box Plot Showing the Age and Manner of Death\n",
        "\n",
        "Break out the data by gender using `df_fatalities`. Is there a difference between men and women in the manner of death?\n"
      ]
    },
    {
      "cell_type": "code",
      "execution_count": null,
      "metadata": {
        "id": "WdPPZLJY2shA"
      },
      "outputs": [],
      "source": [
        "plt.figure(figsize=(14, 8))\n",
        "sns.boxplot(x=\"manner_of_death\", y=\"age\", hue=\"gender\", data=df_fatalities)\n",
        "plt.title(\"Age and Manner of Death by Gender\")\n",
        "plt.xlabel(\"Manner of Death\")\n",
        "plt.ylabel(\"Age\")\n",
        "plt.legend(title=\"Gender\")\n",
        "plt.show()"
      ]
    },
    {
      "cell_type": "code",
      "execution_count": null,
      "metadata": {
        "id": "tpPq4uFc2sql"
      },
      "outputs": [],
      "source": []
    },
    {
      "cell_type": "code",
      "execution_count": null,
      "metadata": {
        "id": "EnFbXlRm3XK6"
      },
      "outputs": [],
      "source": []
    },
    {
      "cell_type": "markdown",
      "metadata": {
        "id": "h1pAgkyb3Xb0"
      },
      "source": [
        "# Were People Armed?\n",
        "\n",
        "In what percentage of police killings were people armed? Create chart that show what kind of weapon (if any) the deceased was carrying. How many of the people killed by police were armed with guns versus unarmed?\n"
      ]
    },
    {
      "cell_type": "code",
      "execution_count": null,
      "metadata": {
        "id": "vdGTO3pW4Tp5"
      },
      "outputs": [],
      "source": [
        "# Calculate the percentage of people armed\n",
        "armed_counts = df_fatalities[\"armed\"].value_counts(normalize=True) * 100\n",
        "\n",
        "# Create a bar chart showing the type of weapon the deceased was carrying\n",
        "fig = px.bar(\n",
        "    armed_counts,\n",
        "    x=armed_counts.index,\n",
        "    y=armed_counts.values,\n",
        "    title=\"Percentage of Police Killings by Weapon Type\",\n",
        "    labels={\"index\": \"Weapon Type\", \"y\": \"Percentage\"},\n",
        "    height=600,\n",
        ")\n",
        "\n",
        "fig.show()"
      ]
    },
    {
      "cell_type": "code",
      "execution_count": null,
      "metadata": {
        "id": "qnO_rckl4WuJ"
      },
      "outputs": [],
      "source": [
        "# Calculate the number of people armed with guns versus unarmed\n",
        "gun_vs_unarmed_counts = (\n",
        "    df_fatalities[\"armed\"]\n",
        "    .astype(str)\n",
        "    .apply(lambda x: \"gun\" if \"gun\" in x else \"unarmed\" if x == \"unarmed\" else \"other\")\n",
        "    .value_counts()\n",
        ")\n",
        "\n",
        "# Create a bar chart for gun vs unarmed\n",
        "fig = px.bar(\n",
        "    gun_vs_unarmed_counts,\n",
        "    x=gun_vs_unarmed_counts.index,\n",
        "    y=gun_vs_unarmed_counts.values,\n",
        "    title=\"Number of People Killed by Police: Gun vs Unarmed\",\n",
        "    labels={\"index\": \"Category\", \"y\": \"Number of Deaths\"},\n",
        "    height=600,\n",
        ")\n",
        "\n",
        "fig.show()"
      ]
    },
    {
      "cell_type": "markdown",
      "metadata": {
        "id": "IgD2a5-L4W_I"
      },
      "source": [
        "# How Old Were the People Killed?\n"
      ]
    },
    {
      "cell_type": "markdown",
      "metadata": {
        "id": "BNPrdT-W9lf3"
      },
      "source": [
        "Work out what percentage of people killed were under 25 years old.\n"
      ]
    },
    {
      "cell_type": "code",
      "execution_count": null,
      "metadata": {
        "id": "zSyDgzb542O9",
        "vscode": {
          "languageId": "ruby"
        }
      },
      "outputs": [],
      "source": [
        "# Calculate the number of people killed who were under 25 years old\n",
        "under_25_count = df_fatalities[df_fatalities['age'] < 25].shape[0]\n",
        "\n",
        "# Calculate the total number of people killed\n",
        "total_count = df_fatalities.shape[0]\n",
        "\n",
        "# Calculate the percentage\n",
        "percentage_under_25 = (under_25_count / total_count) * 100\n",
        "\n",
        "print(f\"Percentage of people killed who were under 25 years old: {percentage_under_25:.2f}%\")"
      ]
    },
    {
      "cell_type": "markdown",
      "metadata": {
        "id": "5XrAD_ey9qBB"
      },
      "source": [
        "Create a histogram and KDE plot that shows the distribution of ages of the people killed by police.\n"
      ]
    },
    {
      "cell_type": "code",
      "execution_count": null,
      "metadata": {
        "id": "U6B1Qp7l42H8"
      },
      "outputs": [],
      "source": [
        "plt.figure(figsize=(12, 6))\n",
        "sns.histplot(df_fatalities[\"age\"], kde=True, bins=30)\n",
        "plt.title(\"Distribution of Ages of People Killed by Police\")\n",
        "plt.xlabel(\"Age\")\n",
        "plt.ylabel(\"Number of Deaths\")\n",
        "plt.show()"
      ]
    },
    {
      "cell_type": "markdown",
      "metadata": {
        "id": "zcqqPDo79rTx"
      },
      "source": [
        "Create a seperate KDE plot for each race. Is there a difference between the distributions?\n"
      ]
    },
    {
      "cell_type": "code",
      "execution_count": null,
      "metadata": {
        "id": "ubUnMjok43Zo"
      },
      "outputs": [],
      "source": [
        "# Create a FacetGrid for KDE plots by race\n",
        "g = sns.FacetGrid(df_fatalities, hue=\"race\", height=5, aspect=2)\n",
        "g.map(sns.kdeplot, \"age\", fill=True).add_legend()\n",
        "\n",
        "# Set titles and labels\n",
        "g.figure.suptitle(\"Age Distribution of People Killed by Police by Race\", y=1.02)\n",
        "g.set_axis_labels(\"Age\", \"Density\")\n",
        "\n",
        "plt.show()"
      ]
    },
    {
      "cell_type": "markdown",
      "metadata": {
        "id": "JkcHvMUt43uE"
      },
      "source": [
        "# Race of People Killed\n",
        "\n",
        "Create a chart that shows the total number of people killed by race.\n"
      ]
    },
    {
      "cell_type": "code",
      "execution_count": null,
      "metadata": {
        "id": "e8wZvBrt5BEb"
      },
      "outputs": [],
      "source": [
        "# Create the bar chart\n",
        "fig = px.bar(\n",
        "    race_counts,\n",
        "    x=race_counts.index,\n",
        "    y=race_counts.values,\n",
        "    title=\"Total Number of People Killed by Race\",\n",
        "    labels={\"index\": \"Race\", \"y\": \"Number of Deaths\"},\n",
        "    height=600,\n",
        ")\n",
        "\n",
        "fig.show()"
      ]
    },
    {
      "cell_type": "code",
      "execution_count": null,
      "metadata": {
        "id": "_aqN0wC45BOl"
      },
      "outputs": [],
      "source": []
    },
    {
      "cell_type": "markdown",
      "metadata": {
        "id": "SJaNm4rC5nWm"
      },
      "source": [
        "# Mental Illness and Police Killings\n",
        "\n",
        "What percentage of people killed by police have been diagnosed with a mental illness?\n"
      ]
    },
    {
      "cell_type": "code",
      "execution_count": null,
      "metadata": {
        "id": "dbuGvCnN5ytC",
        "vscode": {
          "languageId": "ruby"
        }
      },
      "outputs": [],
      "source": [
        "# Calculate the number of people with signs of mental illness\n",
        "mental_illness_count = df_fatalities[df_fatalities[\"signs_of_mental_illness\"] == True].shape[0]\n",
        "\n",
        "# Calculate the percentage\n",
        "percentage_mental_illness = (mental_illness_count / total_count) * 100\n",
        "\n",
        "print(f\"Percentage of people killed by police with signs of mental illness: {percentage_mental_illness:.2f}%\")"
      ]
    },
    {
      "cell_type": "code",
      "execution_count": null,
      "metadata": {
        "id": "BsKDVLiY5CP_"
      },
      "outputs": [],
      "source": []
    },
    {
      "cell_type": "markdown",
      "metadata": {
        "id": "R0WSPeKD5Cir"
      },
      "source": [
        "# In Which Cities Do the Most Police Killings Take Place?\n",
        "\n",
        "Create a chart ranking the top 10 cities with the most police killings. Which cities are the most dangerous?\n"
      ]
    },
    {
      "cell_type": "code",
      "execution_count": null,
      "metadata": {
        "id": "NYVwo3qy5UV3"
      },
      "outputs": [],
      "source": [
        "# Count the number of police killings per city\n",
        "city_killings = df_fatalities[\"city\"].value_counts().head(10)\n",
        "\n",
        "# Create the bar chart\n",
        "fig = px.bar(\n",
        "    city_killings,\n",
        "    x=city_killings.index,\n",
        "    y=city_killings.values,\n",
        "    title=\"Top 10 Cities with the Most Police Killings\",\n",
        "    labels={\"index\": \"City\", \"y\": \"Number of Killings\"},\n",
        "    height=600,\n",
        ")\n",
        "\n",
        "fig.show()"
      ]
    },
    {
      "cell_type": "code",
      "execution_count": null,
      "metadata": {
        "id": "T_FU4GFk5Upa"
      },
      "outputs": [],
      "source": []
    },
    {
      "cell_type": "markdown",
      "metadata": {
        "id": "AqcOW6ca8JMD"
      },
      "source": [
        "# Rate of Death by Race\n",
        "\n",
        "Find the share of each race in the top 10 cities. Contrast this with the top 10 cities of police killings to work out the rate at which people are killed by race for each city.\n"
      ]
    },
    {
      "cell_type": "code",
      "execution_count": null,
      "metadata": {
        "id": "FkjAUlKy8I2g",
        "vscode": {
          "languageId": "ruby"
        }
      },
      "outputs": [],
      "source": [
        "# Filter the df_share_race_city DataFrame to include only the top 10 cities with the most police killings\n",
        "top_10_cities = city_killings.index\n",
        "df_top_10_cities_race_share = df_share_race_city[df_share_race_city[\"City\"].isin(top_10_cities)]\n",
        "\n",
        "# Group by city and calculate the mean share of each race\n",
        "city_race_share = df_top_10_cities_race_share.groupby(\"City\").agg({\n",
        "    \"share_white\": \"mean\",\n",
        "    \"share_black\": \"mean\",\n",
        "    \"share_native_american\": \"mean\",\n",
        "    \"share_asian\": \"mean\",\n",
        "    \"share_hispanic\": \"mean\"\n",
        "}).reset_index()\n",
        "\n",
        "# Merge the city_race_share with city_killings to get the number of killings in each city\n",
        "city_race_share = city_race_share.merge(city_killings.rename_axis('City').reset_index(), on=\"City\")\n",
        "city_race_share.rename(columns={\"count\": \"Number of Killings\"}, inplace=True)\n",
        "\n",
        "# Calculate the rate at which people are killed by race for each city\n",
        "for race in [\n",
        "    \"share_white\",\n",
        "    \"share_black\",\n",
        "    \"share_native_american\",\n",
        "    \"share_asian\",\n",
        "    \"share_hispanic\",\n",
        "]:\n",
        "    city_race_share[f\"kill_rate_{race}\"] = (\n",
        "        city_race_share[\"Number of Killings\"] / city_race_share[race]\n",
        "    )\n",
        "\n",
        "# Display the result\n",
        "city_race_share"
      ]
    },
    {
      "cell_type": "code",
      "execution_count": null,
      "metadata": {
        "vscode": {
          "languageId": "ruby"
        }
      },
      "outputs": [],
      "source": []
    },
    {
      "cell_type": "markdown",
      "metadata": {
        "id": "1HUJksrI5WFb"
      },
      "source": [
        "# Create a Choropleth Map of Police Killings by US State\n",
        "\n",
        "Which states are the most dangerous? Compare your map with your previous chart. Are these the same states with high degrees of poverty?\n"
      ]
    },
    {
      "cell_type": "code",
      "execution_count": null,
      "metadata": {
        "id": "u3UuX4Yo5dBA"
      },
      "outputs": [],
      "source": [
        "# Aggregate the number of police killings by state\n",
        "state_killings = df_fatalities[\"state\"].value_counts().reset_index()\n",
        "state_killings.columns = [\"state\", \"killings\"]\n",
        "\n",
        "# Create the choropleth map\n",
        "fig = px.choropleth(\n",
        "    state_killings,\n",
        "    locations=\"state\",\n",
        "    locationmode=\"USA-states\",\n",
        "    color=\"killings\",\n",
        "    scope=\"usa\",\n",
        "    title=\"Police Killings by US State\",\n",
        "    labels={\"killings\": \"Number of Killings\"},\n",
        "    color_continuous_scale=\"Reds\",\n",
        ")\n",
        "\n",
        "fig.show()"
      ]
    },
    {
      "cell_type": "code",
      "execution_count": null,
      "metadata": {
        "id": "Y6VLPDeN5dKO"
      },
      "outputs": [],
      "source": []
    },
    {
      "cell_type": "markdown",
      "metadata": {
        "id": "37UsmVYF6hA2"
      },
      "source": [
        "# Number of Police Killings Over Time\n",
        "\n",
        "Analyse the Number of Police Killings over Time. Is there a trend in the data?\n"
      ]
    },
    {
      "cell_type": "code",
      "execution_count": null,
      "metadata": {
        "id": "nITf1IhP6gpI"
      },
      "outputs": [],
      "source": []
    },
    {
      "cell_type": "code",
      "execution_count": 68,
      "metadata": {
        "id": "Q_vxjD_A7JRh"
      },
      "outputs": [],
      "source": [
        "# Convert the date column to datetime format\n",
        "df_fatalities[\"date\"] = pd.to_datetime(df_fatalities[\"date\"], format=\"%d/%m/%y\")\n",
        "\n",
        "# Extract the year from the date column\n",
        "df_fatalities[\"year\"] = df_fatalities[\"date\"].dt.year\n",
        "\n",
        "# Group by year and count the number of killings\n",
        "killings_per_year = df_fatalities.groupby(\"year\").size().reset_index(name=\"killings\")"
      ]
    },
    {
      "cell_type": "code",
      "execution_count": null,
      "metadata": {
        "id": "mOqtie707JU8"
      },
      "outputs": [],
      "source": [
        "# Create the time series plot\n",
        "plt.figure(figsize=(12, 6))\n",
        "sns.lineplot(data=killings_per_year, x=\"year\", y=\"killings\", marker=\"o\")\n",
        "plt.title(\"Number of Police Killings Over Time\")\n",
        "plt.xlabel(\"Year\")\n",
        "plt.ylabel(\"Number of Killings\")\n",
        "plt.grid(True)\n",
        "plt.show()"
      ]
    },
    {
      "cell_type": "code",
      "execution_count": null,
      "metadata": {
        "id": "5fjhL8Lk7JKa"
      },
      "outputs": [],
      "source": []
    },
    {
      "cell_type": "markdown",
      "metadata": {
        "id": "9o6uLFpS61nw"
      },
      "source": [
        "# Epilogue\n",
        "\n",
        "Now that you have analysed the data yourself, read [The Washington Post's analysis here](https://www.washingtonpost.com/graphics/investigations/police-shootings-database/).\n"
      ]
    },
    {
      "cell_type": "code",
      "execution_count": null,
      "metadata": {
        "id": "8PjgzuNa61I1"
      },
      "outputs": [],
      "source": []
    }
  ],
  "metadata": {
    "colab": {
      "name": "Fatal Force (start).ipynb",
      "provenance": []
    },
    "kernelspec": {
      "display_name": ".venv",
      "language": "python",
      "name": "python3"
    },
    "language_info": {
      "codemirror_mode": {
        "name": "ipython",
        "version": 3
      },
      "file_extension": ".py",
      "mimetype": "text/x-python",
      "name": "python",
      "nbconvert_exporter": "python",
      "pygments_lexer": "ipython3",
      "version": "3.13.0"
    }
  },
  "nbformat": 4,
  "nbformat_minor": 0
}
